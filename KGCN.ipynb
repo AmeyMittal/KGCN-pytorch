{
 "cells": [
  {
   "cell_type": "code",
   "execution_count": 1,
   "metadata": {
    "tags": []
   },
   "outputs": [],
   "source": [
    "%load_ext autoreload\n",
    "%autoreload 2"
   ]
  },
  {
   "cell_type": "code",
   "execution_count": 2,
   "metadata": {
    "tags": []
   },
   "outputs": [],
   "source": [
    "import pandas as pd\n",
    "import numpy as np\n",
    "import argparse\n",
    "import random\n",
    "from model import KGCN\n",
    "from data_loader import DataLoader\n",
    "import torch\n",
    "import torch.optim as optim\n",
    "from sklearn.model_selection import train_test_split\n",
    "import matplotlib.pyplot as plt\n",
    "from sklearn.metrics import roc_auc_score"
   ]
  },
  {
   "cell_type": "code",
   "execution_count": 3,
   "metadata": {},
   "outputs": [],
   "source": [
    "parser = argparse.ArgumentParser()\n",
    "\n",
    "parser.add_argument('--dataset', type=str, default='movie', help='which dataset to use')\n",
    "parser.add_argument('--aggregator', type=str, default='sum', help='which aggregator to use')\n",
    "parser.add_argument('--n_epochs', type=int, default=5, help='the number of epochs')\n",
    "parser.add_argument('--neighbor_sample_size', type=int, default=4, help='the number of neighbors to be sampled')\n",
    "parser.add_argument('--dim', type=int, default=32, help='dimension of user and entity embeddings')\n",
    "parser.add_argument('--n_iter', type=int, default=2, help='number of iterations when computing entity representation')\n",
    "parser.add_argument('--batch_size', type=int, default=8192, help='batch size')\n",
    "parser.add_argument('--l2_weight', type=float, default=1e-4, help='weight of l2 regularization')\n",
    "parser.add_argument('--lr', type=float, default=2e-2, help='learning rate')\n",
    "parser.add_argument('--ratio', type=float, default=0.8, help='size of training dataset')\n",
    "\n",
    "args = parser.parse_args(['--l2_weight', '1e-4'])"
   ]
  },
  {
   "cell_type": "code",
   "execution_count": 4,
   "metadata": {
    "tags": []
   },
   "outputs": [
    {
     "name": "stdout",
     "output_type": "stream",
     "text": [
      "Construct knowledge graph ... Done\n",
      "Build dataset dataframe ... Done\n"
     ]
    },
    {
     "data": {
      "text/html": [
       "<div>\n",
       "<style scoped>\n",
       "    .dataframe tbody tr th:only-of-type {\n",
       "        vertical-align: middle;\n",
       "    }\n",
       "\n",
       "    .dataframe tbody tr th {\n",
       "        vertical-align: top;\n",
       "    }\n",
       "\n",
       "    .dataframe thead th {\n",
       "        text-align: right;\n",
       "    }\n",
       "</style>\n",
       "<table border=\"1\" class=\"dataframe\">\n",
       "  <thead>\n",
       "    <tr style=\"text-align: right;\">\n",
       "      <th></th>\n",
       "      <th>index</th>\n",
       "      <th>userID</th>\n",
       "      <th>itemID</th>\n",
       "      <th>label</th>\n",
       "    </tr>\n",
       "  </thead>\n",
       "  <tbody>\n",
       "    <tr>\n",
       "      <th>1923284</th>\n",
       "      <td>4160929</td>\n",
       "      <td>2391</td>\n",
       "      <td>3</td>\n",
       "      <td>1</td>\n",
       "    </tr>\n",
       "    <tr>\n",
       "      <th>11293178</th>\n",
       "      <td>3461789</td>\n",
       "      <td>902</td>\n",
       "      <td>5</td>\n",
       "      <td>1</td>\n",
       "    </tr>\n",
       "    <tr>\n",
       "      <th>371596</th>\n",
       "      <td>14777886</td>\n",
       "      <td>1138</td>\n",
       "      <td>4</td>\n",
       "      <td>1</td>\n",
       "    </tr>\n",
       "    <tr>\n",
       "      <th>4194371</th>\n",
       "      <td>11810670</td>\n",
       "      <td>18638</td>\n",
       "      <td>4</td>\n",
       "      <td>1</td>\n",
       "    </tr>\n",
       "    <tr>\n",
       "      <th>180133</th>\n",
       "      <td>8506288</td>\n",
       "      <td>11673</td>\n",
       "      <td>4</td>\n",
       "      <td>1</td>\n",
       "    </tr>\n",
       "  </tbody>\n",
       "</table>\n",
       "</div>"
      ],
      "text/plain": [
       "             index  userID  itemID  label\n",
       "1923284    4160929    2391       3      1\n",
       "11293178   3461789     902       5      1\n",
       "371596    14777886    1138       4      1\n",
       "4194371   11810670   18638       4      1\n",
       "180133     8506288   11673       4      1"
      ]
     },
     "execution_count": 4,
     "metadata": {},
     "output_type": "execute_result"
    }
   ],
   "source": [
    "data_loader = DataLoader(args.dataset)\n",
    "kg = data_loader.load_kg()\n",
    "df_dataset = data_loader.load_data()\n",
    "df_dataset = df_dataset.sample(frac=0.5, replace=False)\n",
    "df_dataset.head()"
   ]
  },
  {
   "cell_type": "code",
   "execution_count": 5,
   "metadata": {},
   "outputs": [],
   "source": [
    "class KGCNDataset(torch.utils.data.Dataset):\n",
    "    def __init__(self, df):\n",
    "        self.df = df\n",
    "    def __len__(self):\n",
    "        return len(self.df)\n",
    "    def __getitem__(self, idx):\n",
    "        user_id = np.array(self.df.iloc[idx]['userID'])\n",
    "        movie_id = np.array(self.df.iloc[idx]['itemID'])\n",
    "        label = np.array(self.df.iloc[idx]['label'], dtype=np.float32)\n",
    "        return user_id, movie_id, label"
   ]
  },
  {
   "cell_type": "code",
   "execution_count": 6,
   "metadata": {},
   "outputs": [],
   "source": [
    "x_train, x_test, y_train, y_test = train_test_split(df_dataset, df_dataset['label'], test_size=1 - args.ratio)\n",
    "train_dataset = KGCNDataset(x_train)\n",
    "test_dataset = KGCNDataset(x_test)\n",
    "train_loader = torch.utils.data.DataLoader(train_dataset, batch_size=args.batch_size)\n",
    "test_loader = torch.utils.data.DataLoader(test_dataset, batch_size=args.batch_size)"
   ]
  },
  {
   "cell_type": "code",
   "execution_count": 7,
   "metadata": {},
   "outputs": [],
   "source": [
    "from model import KGCN\n",
    "num_user, num_entity, num_relation = data_loader.get_num()\n",
    "user_encoder, entity_encoder, relation_encoder = data_loader.get_encoders()\n",
    "net = KGCN(num_user, num_entity, num_relation, kg, args)\n",
    "criterion = torch.nn.BCELoss()\n",
    "optimizer = optim.Adam(net.parameters(), lr=args.lr)"
   ]
  },
  {
   "cell_type": "code",
   "execution_count": null,
   "metadata": {},
   "outputs": [],
   "source": [
    "pn = 50\n",
    "loss_list = []\n",
    "test_loss_list = []\n",
    "auc_score_list = []\n",
    "for epoch in range(args.n_epochs):\n",
    "    running_loss = 0.0\n",
    "    for i, (user_id, movie_id, label) in enumerate(train_loader):\n",
    "        optimizer.zero_grad()\n",
    "        outputs = net(user_id, movie_id)\n",
    "        loss = criterion(outputs, label)\n",
    "        loss.backward()\n",
    "        \n",
    "        optimizer.step()\n",
    "\n",
    "        running_loss += loss.item()\n",
    "        if i % pn == pn-1:    # print every 2000 mini-batches\n",
    "            print('[%d, %5d] loss: %.3f' % (epoch+1, i + 1, running_loss / pn))\n",
    "            loss_list.append(running_loss / pn)\n",
    "            running_loss = 0.0\n",
    "            \n",
    "            with torch.no_grad():\n",
    "                test_loss = 0\n",
    "                total_roc = 0\n",
    "                for (uid, mid, l) in test_loader:\n",
    "                    out = net(uid, mid)\n",
    "                    test_loss += criterion(out, l).item()\n",
    "                    total_roc += roc_auc_score(l.detach().numpy(), out.detach().numpy())\n",
    "                print('test_loss: ', test_loss / pn)\n",
    "                test_loss_list.append(test_loss / pn)\n",
    "                auc_score_list.append(total_roc / pn)"
   ]
  },
  {
   "cell_type": "code",
   "execution_count": null,
   "metadata": {},
   "outputs": [],
   "source": [
    "plt.plot(loss_list)\n",
    "plt.plot(test_loss_list)\n",
    "plt.plot(auc_score_list)\n",
    "plt.show()"
   ]
  }
 ],
 "metadata": {
  "kernelspec": {
   "display_name": "Python 3",
   "language": "python",
   "name": "python3"
  },
  "language_info": {
   "codemirror_mode": {
    "name": "ipython",
    "version": 3
   },
   "file_extension": ".py",
   "mimetype": "text/x-python",
   "name": "python",
   "nbconvert_exporter": "python",
   "pygments_lexer": "ipython3",
   "version": "3.7.7"
  }
 },
 "nbformat": 4,
 "nbformat_minor": 4
}
